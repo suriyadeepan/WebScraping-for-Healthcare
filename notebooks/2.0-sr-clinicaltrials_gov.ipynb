{
 "cells": [
  {
   "cell_type": "markdown",
   "metadata": {},
   "source": [
    "# clinicaltrials.gov"
   ]
  },
  {
   "cell_type": "code",
   "execution_count": 1,
   "metadata": {},
   "outputs": [],
   "source": [
    "%load_ext autoreload\n",
    "%autoreload 2"
   ]
  },
  {
   "cell_type": "code",
   "execution_count": 2,
   "metadata": {},
   "outputs": [
    {
     "name": "stdout",
     "output_type": "stream",
     "text": [
      "/home/suriya/dcu/PeerLearning\n"
     ]
    }
   ],
   "source": [
    "cd .."
   ]
  },
  {
   "cell_type": "markdown",
   "metadata": {},
   "source": [
    "## Remdesivir"
   ]
  },
  {
   "cell_type": "code",
   "execution_count": 7,
   "metadata": {},
   "outputs": [
    {
     "name": "stdout",
     "output_type": "stream",
     "text": [
      "{'status': 'Approved for marketing', 'phase': '', 'age': '12 Years and older \\xa0 (Child, Adult, Older Adult)', 'sex': 'All', 'nct': 'NCT04323761', 'inclusion': ['Willing and able to provide written informed consent, or with a legal representative who can provide informed consent, or enrolled under International Conference on Harmonization (ICH) E6(R2) 4.8.15 emergency use provisions as deemed necessary by the investigator (participants ≥ 18 years of age), or willing and able to provide assent (participants ≥ 12 and < 18 years of age, where locally and nationally approved) prior to performing study procedures. For participants ≥ 12 and < 18 years of age, a parent or legal guardian willing and able to provide written informed consent prior to performing study procedures.', 'Age ≥ 18 years or aged ≥ 12 and < 18 years of age weighing ≥ 40 kg (where permitted according to local law and approved nationally and by the relevant institutional review board (IRB) or independent ethics committee (IEC))', 'Hospitalized with confirmed SARS-CoV2 by polymerase chain reaction (PCR) or known contact of confirmed case with syndrome consistent with coronavirus disease (COVID-19) with PCR pending', 'Oxygen saturation (SpO2) ≤ 94% on room air or requiring supplemental oxygen at baseline', 'Alanine aminotransferase (ALT) < 5 x upper limit of normal (ULN) by local laboratory measure and/or ALT < 3 x ULN and bilirubin < 2 x ULN', 'Females of childbearing potential who engage in heterosexual intercourse must agree to use protocol specified method(s) of contraception', 'Lactating females must agree to discontinue nursing before the study drug is administered and while they are participating in the study'], 'exclusion': ['Evidence of multiorgan failure including but not limited to coagulopathy (significant thrombocytopenia), hepatic failure (elevated bilirubin) or renal failure (low urine output or estimated glomerular filtration rate (eGFR) < 30 mL/min), or significant cardiomyopathy (low cardiac output)', 'Use of more than 1 pressor for septic shock (note that use of 1 pressor at low/medium doses for inotropic support due to the use of sedation and paralytics while on the ventilator is allowed)', 'Renal failure (eGRF < 30 mL/min using the Cockcroft-Gault formula for participants ≥ 18 years of age and Schwartz Formula for participants < 18 years of age) or dialysis or continuous Veno-Venous Hemofiltration)', 'Eligible for enrollment in a randomized clinical trial studying remdesivir for treatment of SARS-CoV2 at the medical facility where the participant is admitted', 'Known hypersensitivity to the study drug, the metabolites, or formulation excipient', 'Requiring venous arterial (V-A) extracorporeal membrane oxygen (ECMO) (venous venous (V-V) ECMO is not an exclusion criteria)'], 'enrollment': ''}\n"
     ]
    }
   ],
   "source": [
    "from phscrape import clinicaltrials\n",
    "\n",
    "remdesivir_study = 'https://clinicaltrials.gov/ct2/show/NCT04323761'\n",
    "data = clinicaltrials.fetch(remdesivir_study)\n",
    "print(data)"
   ]
  },
  {
   "cell_type": "code",
   "execution_count": 8,
   "metadata": {},
   "outputs": [
    {
     "data": {
      "text/html": [
       "<div>\n",
       "<style scoped>\n",
       "    .dataframe tbody tr th:only-of-type {\n",
       "        vertical-align: middle;\n",
       "    }\n",
       "\n",
       "    .dataframe tbody tr th {\n",
       "        vertical-align: top;\n",
       "    }\n",
       "\n",
       "    .dataframe thead th {\n",
       "        text-align: right;\n",
       "    }\n",
       "</style>\n",
       "<table border=\"1\" class=\"dataframe\">\n",
       "  <thead>\n",
       "    <tr style=\"text-align: right;\">\n",
       "      <th></th>\n",
       "      <th>status</th>\n",
       "      <th>phase</th>\n",
       "      <th>age</th>\n",
       "      <th>sex</th>\n",
       "      <th>nct</th>\n",
       "      <th>inclusion</th>\n",
       "      <th>exclusion</th>\n",
       "      <th>enrollment</th>\n",
       "    </tr>\n",
       "  </thead>\n",
       "  <tbody>\n",
       "    <tr>\n",
       "      <th>0</th>\n",
       "      <td>Approved for marketing</td>\n",
       "      <td></td>\n",
       "      <td>12 Years and older   (Child, Adult, Older Adult)</td>\n",
       "      <td>All</td>\n",
       "      <td>NCT04323761</td>\n",
       "      <td>[Willing and able to provide written informed ...</td>\n",
       "      <td>[Evidence of multiorgan failure including but ...</td>\n",
       "      <td></td>\n",
       "    </tr>\n",
       "  </tbody>\n",
       "</table>\n",
       "</div>"
      ],
      "text/plain": [
       "                   status phase  \\\n",
       "0  Approved for marketing         \n",
       "\n",
       "                                                age  sex          nct  \\\n",
       "0  12 Years and older   (Child, Adult, Older Adult)  All  NCT04323761   \n",
       "\n",
       "                                           inclusion  \\\n",
       "0  [Willing and able to provide written informed ...   \n",
       "\n",
       "                                           exclusion enrollment  \n",
       "0  [Evidence of multiorgan failure including but ...             "
      ]
     },
     "execution_count": 8,
     "metadata": {},
     "output_type": "execute_result"
    }
   ],
   "source": [
    "import pandas as pd\n",
    "\n",
    "df = pd.DataFrame([data])\n",
    "df"
   ]
  },
  {
   "cell_type": "markdown",
   "metadata": {},
   "source": [
    "## Dexamethasone"
   ]
  },
  {
   "cell_type": "code",
   "execution_count": 11,
   "metadata": {},
   "outputs": [],
   "source": [
    "dexamethasone_study = 'https://clinicaltrials.gov/ct2/show/NCT04707534?cond=covid19&draw=2&rank=1'\n",
    "data = clinicaltrials.fetch(dexamethasone_study)\n"
   ]
  },
  {
   "cell_type": "code",
   "execution_count": 13,
   "metadata": {},
   "outputs": [
    {
     "data": {
      "text/html": [
       "<div>\n",
       "<style scoped>\n",
       "    .dataframe tbody tr th:only-of-type {\n",
       "        vertical-align: middle;\n",
       "    }\n",
       "\n",
       "    .dataframe tbody tr th {\n",
       "        vertical-align: top;\n",
       "    }\n",
       "\n",
       "    .dataframe thead th {\n",
       "        text-align: right;\n",
       "    }\n",
       "</style>\n",
       "<table border=\"1\" class=\"dataframe\">\n",
       "  <thead>\n",
       "    <tr style=\"text-align: right;\">\n",
       "      <th></th>\n",
       "      <th>status</th>\n",
       "      <th>phase</th>\n",
       "      <th>age</th>\n",
       "      <th>sex</th>\n",
       "      <th>nct</th>\n",
       "      <th>inclusion</th>\n",
       "      <th>exclusion</th>\n",
       "      <th>enrollment</th>\n",
       "    </tr>\n",
       "  </thead>\n",
       "  <tbody>\n",
       "    <tr>\n",
       "      <th>0</th>\n",
       "      <td>Approved for marketing</td>\n",
       "      <td></td>\n",
       "      <td>12 Years and older   (Child, Adult, Older Adult)</td>\n",
       "      <td>All</td>\n",
       "      <td>NCT04323761</td>\n",
       "      <td>[Willing and able to provide written informed ...</td>\n",
       "      <td>[Evidence of multiorgan failure including but ...</td>\n",
       "      <td></td>\n",
       "    </tr>\n",
       "    <tr>\n",
       "      <th>1</th>\n",
       "      <td>Recruiting</td>\n",
       "      <td>Phase 4</td>\n",
       "      <td>18 Years and older   (Adult, Older Adult)</td>\n",
       "      <td>All</td>\n",
       "      <td>NCT04707534</td>\n",
       "      <td>[Age ≥ 18 years old, RT-PCR confirmed COVID-19...</td>\n",
       "      <td>[Underlying disease requiring chronic corticos...</td>\n",
       "      <td>300 participants</td>\n",
       "    </tr>\n",
       "  </tbody>\n",
       "</table>\n",
       "</div>"
      ],
      "text/plain": [
       "                   status    phase  \\\n",
       "0  Approved for marketing            \n",
       "1              Recruiting  Phase 4   \n",
       "\n",
       "                                                age  sex          nct  \\\n",
       "0  12 Years and older   (Child, Adult, Older Adult)  All  NCT04323761   \n",
       "1         18 Years and older   (Adult, Older Adult)  All  NCT04707534   \n",
       "\n",
       "                                           inclusion  \\\n",
       "0  [Willing and able to provide written informed ...   \n",
       "1  [Age ≥ 18 years old, RT-PCR confirmed COVID-19...   \n",
       "\n",
       "                                           exclusion        enrollment  \n",
       "0  [Evidence of multiorgan failure including but ...                    \n",
       "1  [Underlying disease requiring chronic corticos...  300 participants  "
      ]
     },
     "execution_count": 13,
     "metadata": {},
     "output_type": "execute_result"
    }
   ],
   "source": [
    "df.append([data]).reset_index(drop=True)"
   ]
  }
 ],
 "metadata": {
  "kernelspec": {
   "display_name": "Python 3",
   "language": "python",
   "name": "python3"
  },
  "language_info": {
   "codemirror_mode": {
    "name": "ipython",
    "version": 3
   },
   "file_extension": ".py",
   "mimetype": "text/x-python",
   "name": "python",
   "nbconvert_exporter": "python",
   "pygments_lexer": "ipython3",
   "version": "3.6.9"
  }
 },
 "nbformat": 4,
 "nbformat_minor": 4
}
