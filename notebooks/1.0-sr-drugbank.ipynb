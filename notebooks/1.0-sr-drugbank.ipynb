{
 "cells": [
  {
   "cell_type": "markdown",
   "metadata": {},
   "source": [
    "# Drug Bank"
   ]
  },
  {
   "cell_type": "code",
   "execution_count": 1,
   "metadata": {},
   "outputs": [],
   "source": [
    "%load_ext autoreload\n",
    "%autoreload 2"
   ]
  },
  {
   "cell_type": "code",
   "execution_count": 24,
   "metadata": {},
   "outputs": [
    {
     "name": "stdout",
     "output_type": "stream",
     "text": [
      "/Users/tj/dcu/PeerLearning\n"
     ]
    }
   ],
   "source": [
    "cd .."
   ]
  },
  {
   "cell_type": "code",
   "execution_count": 25,
   "metadata": {},
   "outputs": [
    {
     "name": "stdout",
     "output_type": "stream",
     "text": [
      "{'name': 'Morphine', 'type': 'Small Molecule', 'description': 'Morphine, the main alkaloid of opium, was first obtained from poppy seeds in 1805. It is a potent analgesic, though its use is limited due to tolerance, withdrawal, and the risk of abuse. Morphine is still routinely used today, though there are a number of semi-synthetic opioids of varying strength such as codeine, fentanyl, methadone, hydrocodone, hydromorphone, meperidine, and oxycodone.\\nMorphine was granted FDA approval in 1941.', 'ingredients': ['Morphine acetate', 'Morphine hydrochloride', 'Morphine hydrochloride trihydrate', 'Morphine mesylate', 'Morphine nitrate', 'Morphine phosphate', 'Morphine sulfate', 'Morphine sulfate pentahydrate', 'Morphine tartrate'], 'unii': '76I7G6D29C', 'dosage_forms': ['Capsule, coated, extended release', 'Capsule', 'Suppository, extended release', 'Injection, solution', 'Tincture', 'Suppository', 'Injection, lipid complex', 'Solution', 'Liquid', 'Tablet, extended release', 'Granule, for suspension', 'Tablet, multilayer, extended release', 'Tablet, film coated, extended release', 'Solution, concentrate', 'Capsule, coated pellets', 'Tablet', 'Granule, delayed release', 'Powder', 'Capsule, extended release', 'Syrup', 'Tablet, film coated', 'Injection', 'Solution / drops', 'Injection, solution, concentrate']}\n"
     ]
    }
   ],
   "source": [
    "from phscrape import drugbank\n",
    "\n",
    "url = \"https://go.drugbank.com/drugs/DB00295\"\n",
    "data = drugbank.fetch(url)\n",
    "print(data)"
   ]
  },
  {
   "cell_type": "code",
   "execution_count": 26,
   "metadata": {},
   "outputs": [
    {
     "data": {
      "text/plain": [
       "('Morphine', 'Small Molecule')"
      ]
     },
     "execution_count": 26,
     "metadata": {},
     "output_type": "execute_result"
    }
   ],
   "source": [
    "data['name'], data['type']"
   ]
  },
  {
   "cell_type": "code",
   "execution_count": 27,
   "metadata": {},
   "outputs": [
    {
     "data": {
      "text/plain": [
       "'Morphine, the main alkaloid of opium, was first obtained from poppy seeds in 1805. It is a potent analgesic, though its use is limited due to tolerance, withdrawal, and the risk of abuse. Morphine is still routinely used today, though there are a number of semi-synthetic opioids of varying strength such as codeine, fentanyl, methadone, hydrocodone, hydromorphone, meperidine, and oxycodone.\\nMorphine was granted FDA approval in 1941.'"
      ]
     },
     "execution_count": 27,
     "metadata": {},
     "output_type": "execute_result"
    }
   ],
   "source": [
    "data['description']"
   ]
  },
  {
   "cell_type": "code",
   "execution_count": 28,
   "metadata": {},
   "outputs": [
    {
     "data": {
      "text/plain": [
       "['Capsule, coated, extended release',\n",
       " 'Capsule',\n",
       " 'Suppository, extended release',\n",
       " 'Injection, solution',\n",
       " 'Tincture',\n",
       " 'Suppository',\n",
       " 'Injection, lipid complex',\n",
       " 'Solution',\n",
       " 'Liquid',\n",
       " 'Tablet, extended release',\n",
       " 'Granule, for suspension',\n",
       " 'Tablet, multilayer, extended release',\n",
       " 'Tablet, film coated, extended release',\n",
       " 'Solution, concentrate',\n",
       " 'Capsule, coated pellets',\n",
       " 'Tablet',\n",
       " 'Granule, delayed release',\n",
       " 'Powder',\n",
       " 'Capsule, extended release',\n",
       " 'Syrup',\n",
       " 'Tablet, film coated',\n",
       " 'Injection',\n",
       " 'Solution / drops',\n",
       " 'Injection, solution, concentrate']"
      ]
     },
     "execution_count": 28,
     "metadata": {},
     "output_type": "execute_result"
    }
   ],
   "source": [
    "data['dosage_forms']"
   ]
  },
  {
   "cell_type": "code",
   "execution_count": 29,
   "metadata": {},
   "outputs": [
    {
     "data": {
      "text/plain": [
       "['Morphine acetate',\n",
       " 'Morphine hydrochloride',\n",
       " 'Morphine hydrochloride trihydrate',\n",
       " 'Morphine mesylate',\n",
       " 'Morphine nitrate',\n",
       " 'Morphine phosphate',\n",
       " 'Morphine sulfate',\n",
       " 'Morphine sulfate pentahydrate',\n",
       " 'Morphine tartrate']"
      ]
     },
     "execution_count": 29,
     "metadata": {},
     "output_type": "execute_result"
    }
   ],
   "source": [
    "data['ingredients']"
   ]
  },
  {
   "cell_type": "markdown",
   "metadata": {},
   "source": [
    "# Remdesivir"
   ]
  },
  {
   "cell_type": "code",
   "execution_count": 32,
   "metadata": {},
   "outputs": [
    {
     "data": {
      "text/plain": [
       "'Severe acute respiratory syndrome coronavirus 2 (SARS-CoV-2) is the causative agent of coronavirus disease 2019 (COVID-19), which is a respiratory disease that is capable of progressing to viral pneumonia and acute respiratory distress syndrome (ARDS); COVID-19 can be fatal. Like other RNA viruses, SARS-CoV-2 depends on an RNA-dependent RNA polymerase (RdRp) enzyme complex for genomic replication, which can be inhibited by a class of drugs known as nucleoside analogues.\\nRemdesivir (GS-5734) is an adenosine triphosphate analogue first described in the literature in 2016 as a potential treatment for Ebola. Broad antiviral activity of remdesivir is suggested by its mechanism of action, and to date, it has demonstrated in vitro activity against the Arenaviridae, Flaviviridae, Filoviridae, Paramyxoviridae, Pneumoviridae, and Coronaviridae viral families. Remdesivir activity against the Coronaviridae family was first demonstrated in 2017, leading to considerable interest in remdesivir as a possible treatment for COVID-19. Remdesivir was confirmed as a non-obligate chain terminator of RdRp from SARS-CoV-2 and the related SARS-CoV and MERS-CoV, and has been investigated in multiple COVID-19 clinical trials.\\nBased on aggregate data, remdesivir was granted an FDA Emergency Use Authorization (EUA) on May 1st, 2020. The FDA subsequently granted full approval for remdesivir as a COVID-19 treatment on October 22, 2020, while simultaneously updating the EUA to cover those patients not included under the approved indication. Remdesivir is currently marketed under the trademark name VEKLURY® by Gilead Sciences Inc.\\nRemdesivir in combination with baricitinib for the treatment of COVID-19, was granted an FDA Emergency Use Authorization on 19 Novermber 2020.'"
      ]
     },
     "execution_count": 32,
     "metadata": {},
     "output_type": "execute_result"
    }
   ],
   "source": [
    "remdesivir = drugbank.fetch(\"https://go.drugbank.com/drugs/DB14761\")\n",
    "remdesivir['description']"
   ]
  }
 ],
 "metadata": {
  "kernelspec": {
   "display_name": "Python 3",
   "language": "python",
   "name": "python3"
  },
  "language_info": {
   "codemirror_mode": {
    "name": "ipython",
    "version": 3
   },
   "file_extension": ".py",
   "mimetype": "text/x-python",
   "name": "python",
   "nbconvert_exporter": "python",
   "pygments_lexer": "ipython3",
   "version": "3.8.6"
  }
 },
 "nbformat": 4,
 "nbformat_minor": 4
}
